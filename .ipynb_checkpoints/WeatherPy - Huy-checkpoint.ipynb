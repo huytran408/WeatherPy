{
 "cells": [
  {
   "cell_type": "markdown",
   "metadata": {},
   "source": [
    "# WeatherPy\n",
    "----\n",
    "\n",
    "### Analysis\n",
    "* As expected, the weather becomes significantly warmer as one approaches the equator (0 Deg. Latitude). More interestingly, however, is the fact that the southern hemisphere tends to be warmer this time of year than the northern hemisphere. This may be due to the tilt of the earth.\n",
    "* There is no strong relationship between latitude and cloudiness. However, it is interesting to see that a strong band of cities sits at 0, 80, and 100% cloudiness.\n",
    "* There is no strong relationship between latitude and wind speed. However, in northern hemispheres there is a flurry of cities with over 20 mph of wind.\n",
    "\n",
    "---\n",
    "\n",
    "#### Note\n",
    "* Instructions have been included for each segment. You do not have to follow them exactly, but they are included to help you think through the steps."
   ]
  },
  {
   "cell_type": "code",
   "execution_count": 1,
   "metadata": {
    "scrolled": true
   },
   "outputs": [],
   "source": [
    "# Dependencies and Setup\n",
    "import matplotlib.pyplot as plt\n",
    "import pandas as pd\n",
    "import numpy as np\n",
    "import requests\n",
    "import time\n",
    "\n",
    "# Import API key\n",
    "from api_keys import api_key\n",
    "\n",
    "# Incorporated citipy to determine city based on latitude and longitude\n",
    "from citipy import citipy\n",
    "\n",
    "# Output File (CSV)\n",
    "output_data_file = \"output_data/cities.csv\"\n",
    "\n",
    "# Range of latitudes and longitudes\n",
    "lat_range = (-90, 90)\n",
    "lng_range = (-180, 180)"
   ]
  },
  {
   "cell_type": "markdown",
   "metadata": {},
   "source": [
    "## Generate Cities List"
   ]
  },
  {
   "cell_type": "code",
   "execution_count": 2,
   "metadata": {},
   "outputs": [
    {
     "name": "stdout",
     "output_type": "stream",
     "text": [
      "854\n",
      "854\n",
      "854\n"
     ]
    }
   ],
   "source": [
    "# List for holding lat_lngs and cities\n",
    "lat_lngs = []\n",
    "cities = []\n",
    "\n",
    "# Create a set of random lat and lng combinations\n",
    "lats = np.random.uniform(low=-90.000, high=90.000, size=2500)\n",
    "lngs = np.random.uniform(low=-180.000, high=180.000, size=2500)\n",
    "lat_lngs = zip(lats, lngs)\n",
    "lat_save = []\n",
    "lng_save = []\n",
    "\n",
    "# Identify nearest city for each lat, lng combination\n",
    "for lat_lng in lat_lngs:\n",
    "    city = citipy.nearest_city(lat_lng[0], lat_lng[1]).city_name\n",
    "    \n",
    "    # If the city is unique, then add it to a our cities list\n",
    "    if city not in cities:\n",
    "        cities.append(city)\n",
    "        lat_save.append(lat_lng[0])\n",
    "        lng_save.append(lat_lng[1])\n",
    "\n",
    "# Print the city count to confirm sufficient count\n",
    "print(len(cities))\n",
    "print(len(lat_save))\n",
    "print(len(lng_save))\n"
   ]
  },
  {
   "cell_type": "markdown",
   "metadata": {},
   "source": [
    "### Perform API Calls\n",
    "* Perform a weather check on each city using a series of successive API calls.\n",
    "* Include a print log of each city as it'sbeing processed (with the city number and city name).\n"
   ]
  },
  {
   "cell_type": "code",
   "execution_count": 3,
   "metadata": {},
   "outputs": [],
   "source": [
    "weather_df = pd.DataFrame({\"City\":cities})\n",
    "weather_df[\"Latitude\"] = lat_save\n",
    "weather_df[\"Longitute\"] = lng_save\n",
    "weather_df[\"Temperature (F)\"] = \"\"\n",
    "weather_df[\"Humidity (%)\"] = \"\"\n",
    "weather_df[\"Cloudiness(%)\"] = \"\"\n",
    "weather_df[\"Wind Speed\"] = \"\""
   ]
  },
  {
   "cell_type": "code",
   "execution_count": 4,
   "metadata": {},
   "outputs": [
    {
     "data": {
      "text/plain": [
       "854"
      ]
     },
     "execution_count": 4,
     "metadata": {},
     "output_type": "execute_result"
    }
   ],
   "source": [
    "len(weather_df)\n"
   ]
  },
  {
   "cell_type": "code",
   "execution_count": 5,
   "metadata": {},
   "outputs": [
    {
     "data": {
      "text/plain": [
       "'url = \"http://api.openweathermap.org/data/2.5/weather?\"\\n\\n{\\'coord\\': {\\'lon\\': -117.83, \\'lat\\': 33.69},\\n \\'weather\\': [{\\'id\\': 800,\\n   \\'main\\': \\'Clear\\',\\n   \\'description\\': \\'clear sky\\',\\n   \\'icon\\': \\'01n\\'}],\\n \\'base\\': \\'stations\\',\\n \\'main\\': {\\'temp\\': 54,\\n  \\'pressure\\': 1016,\\n  \\'humidity\\': 82,\\n  \\'temp_min\\': 50,\\n  \\'temp_max\\': 57.2},\\n \\'visibility\\': 16093,\\n \\'wind\\': {\\'speed\\': 1.59, \\'deg\\': 296.5},\\n \\'clouds\\': {\\'all\\': 1},\\n \\'dt\\': 1553675124,\\n \\'sys\\': {\\'type\\': 1,\\n  \\'id\\': 5876,\\n  \\'message\\': 0.009,\\n  \\'country\\': \\'US\\',\\n  \\'sunrise\\': 1553694337,\\n  \\'sunset\\': 1553738855},\\n \\'id\\': 5359777,\\n \\'name\\': \\'Irvine\\',\\n \\'cod\\': 200}\\n '"
      ]
     },
     "execution_count": 5,
     "metadata": {},
     "output_type": "execute_result"
    }
   ],
   "source": [
    "'''url = \"http://api.openweathermap.org/data/2.5/weather?\"\n",
    "\n",
    "{'coord': {'lon': -117.83, 'lat': 33.69},\n",
    " 'weather': [{'id': 800,\n",
    "   'main': 'Clear',\n",
    "   'description': 'clear sky',\n",
    "   'icon': '01n'}],\n",
    " 'base': 'stations',\n",
    " 'main': {'temp': 54,\n",
    "  'pressure': 1016,\n",
    "  'humidity': 82,\n",
    "  'temp_min': 50,\n",
    "  'temp_max': 57.2},\n",
    " 'visibility': 16093,\n",
    " 'wind': {'speed': 1.59, 'deg': 296.5},\n",
    " 'clouds': {'all': 1},\n",
    " 'dt': 1553675124,\n",
    " 'sys': {'type': 1,\n",
    "  'id': 5876,\n",
    "  'message': 0.009,\n",
    "  'country': 'US',\n",
    "  'sunrise': 1553694337,\n",
    "  'sunset': 1553738855},\n",
    " 'id': 5359777,\n",
    " 'name': 'Irvine',\n",
    " 'cod': 200}\n",
    " '''"
   ]
  },
  {
   "cell_type": "code",
   "execution_count": 6,
   "metadata": {},
   "outputs": [
    {
     "name": "stdout",
     "output_type": "stream",
     "text": [
      "Beginning Data Retrieval \n",
      " ........................\n"
     ]
    },
    {
     "name": "stderr",
     "output_type": "stream",
     "text": [
      "C:\\Users\\huyt\\AppData\\Local\\Continuum\\anaconda3\\lib\\site-packages\\ipykernel_launcher.py:8: FutureWarning: set_value is deprecated and will be removed in a future release. Please use .at[] or .iat[] accessors instead\n",
      "  \n",
      "C:\\Users\\huyt\\AppData\\Local\\Continuum\\anaconda3\\lib\\site-packages\\ipykernel_launcher.py:9: FutureWarning: set_value is deprecated and will be removed in a future release. Please use .at[] or .iat[] accessors instead\n",
      "  if __name__ == '__main__':\n",
      "C:\\Users\\huyt\\AppData\\Local\\Continuum\\anaconda3\\lib\\site-packages\\ipykernel_launcher.py:10: FutureWarning: set_value is deprecated and will be removed in a future release. Please use .at[] or .iat[] accessors instead\n",
      "  # Remove the CWD from sys.path while we load stuff.\n",
      "C:\\Users\\huyt\\AppData\\Local\\Continuum\\anaconda3\\lib\\site-packages\\ipykernel_launcher.py:11: FutureWarning: set_value is deprecated and will be removed in a future release. Please use .at[] or .iat[] accessors instead\n",
      "  # This is added back by InteractiveShellApp.init_path()\n"
     ]
    },
    {
     "name": "stdout",
     "output_type": "stream",
     "text": [
      "No data for this city: nizhneyansk\n",
      "No data for this city: saleaula\n",
      "No data for this city: karauzyak\n",
      "No data for this city: belushya guba\n",
      "No data for this city: sentyabrskiy\n",
      "No data for this city: barentsburg\n",
      "No data for this city: tsihombe\n",
      "No data for this city: taolanaro\n",
      "No data for this city: illoqqortoormiut\n",
      "No data for this city: mouzakion\n",
      "No data for this city: mocambique\n",
      "No data for this city: amderma\n",
      "No data for this city: kulasi\n",
      "No data for this city: acarau\n",
      "No data for this city: rungata\n",
      "No data for this city: warqla\n",
      "No data for this city: tapaua\n",
      "No data for this city: vaitupu\n",
      "No data for this city: uk\n",
      "No data for this city: jiddah\n",
      "No data for this city: svetlyy\n",
      "No data for this city: sidi qasim\n",
      "No data for this city: korla\n",
      "No data for this city: olafsvik\n",
      "No data for this city: grand river south east\n",
      "No data for this city: attawapiskat\n",
      "No data for this city: sahrak\n",
      "No data for this city: haibowan\n",
      "No data for this city: aflu\n",
      "No data for this city: poenarii-burchi\n",
      "No data for this city: karamea\n",
      "No data for this city: mys shmidta\n",
      "No data for this city: samusu\n",
      "No data for this city: kushmurun\n",
      "No data for this city: bengkulu\n",
      "No data for this city: calpan\n",
      "No data for this city: gangotri\n",
      "No data for this city: temaraia\n",
      "No data for this city: andenes\n",
      "No data for this city: sataua\n",
      "No data for this city: wangdiphodrang\n",
      "No data for this city: safaqis\n",
      "No data for this city: khonuu\n",
      "No data for this city: chardara\n",
      "No data for this city: koboldo\n",
      "No data for this city: palabuhanratu\n",
      "No data for this city: umzimvubu\n",
      "No data for this city: babanusah\n",
      "No data for this city: tuggurt\n",
      "No data for this city: siwani\n",
      "No data for this city: utiroa\n",
      "No data for this city: skagastrond\n",
      "No data for this city: okandja\n",
      "No data for this city: dekoa\n",
      "No data for this city: bairiki\n",
      "No data for this city: borlange\n",
      "No data for this city: marcona\n",
      "No data for this city: kazalinsk\n",
      "No data for this city: blonduos\n",
      "No data for this city: artyk\n",
      "No data for this city: karkaralinsk\n",
      "No data for this city: wahran\n",
      "No data for this city: phan rang\n",
      "No data for this city: ruatoria\n",
      "No data for this city: asayita\n",
      "No data for this city: akyab\n",
      "No data for this city: kuche\n",
      "No data for this city: candawaga\n",
      "No data for this city: novoilinsk\n",
      "No data for this city: asau\n",
      "No data for this city: gorno-chuyskiy\n",
      "No data for this city: ksenyevka\n",
      "No data for this city: jilmah\n",
      "No data for this city: sorvag\n",
      "No data for this city: bardiyah\n",
      "No data for this city: muzquiz\n",
      "No data for this city: pemangkat\n",
      "No data for this city: shkotovo-26\n",
      "No data for this city: burica\n",
      "No data for this city: kismayo\n",
      "No data for this city: katha\n",
      "No data for this city: louisbourg\n",
      "No data for this city: jabiru\n"
     ]
    },
    {
     "data": {
      "text/html": [
       "<div>\n",
       "<style scoped>\n",
       "    .dataframe tbody tr th:only-of-type {\n",
       "        vertical-align: middle;\n",
       "    }\n",
       "\n",
       "    .dataframe tbody tr th {\n",
       "        vertical-align: top;\n",
       "    }\n",
       "\n",
       "    .dataframe thead th {\n",
       "        text-align: right;\n",
       "    }\n",
       "</style>\n",
       "<table border=\"1\" class=\"dataframe\">\n",
       "  <thead>\n",
       "    <tr style=\"text-align: right;\">\n",
       "      <th></th>\n",
       "      <th>City</th>\n",
       "      <th>Latitude</th>\n",
       "      <th>Longitute</th>\n",
       "      <th>Temperature (F)</th>\n",
       "      <th>Humidity (%)</th>\n",
       "      <th>Cloudiness(%)</th>\n",
       "      <th>Wind Speed</th>\n",
       "    </tr>\n",
       "  </thead>\n",
       "  <tbody>\n",
       "    <tr>\n",
       "      <th>0</th>\n",
       "      <td>nova olimpia</td>\n",
       "      <td>-13.316980</td>\n",
       "      <td>-58.159841</td>\n",
       "      <td>73</td>\n",
       "      <td>95</td>\n",
       "      <td>88</td>\n",
       "      <td>2</td>\n",
       "    </tr>\n",
       "    <tr>\n",
       "      <th>1</th>\n",
       "      <td>hobart</td>\n",
       "      <td>-44.543764</td>\n",
       "      <td>149.207082</td>\n",
       "      <td>54</td>\n",
       "      <td>62</td>\n",
       "      <td>0</td>\n",
       "      <td>5</td>\n",
       "    </tr>\n",
       "    <tr>\n",
       "      <th>2</th>\n",
       "      <td>amurrio</td>\n",
       "      <td>42.870389</td>\n",
       "      <td>-3.064101</td>\n",
       "      <td>48</td>\n",
       "      <td>76</td>\n",
       "      <td>0</td>\n",
       "      <td>1</td>\n",
       "    </tr>\n",
       "    <tr>\n",
       "      <th>3</th>\n",
       "      <td>tshikapa</td>\n",
       "      <td>-6.451057</td>\n",
       "      <td>20.773843</td>\n",
       "      <td>85</td>\n",
       "      <td>72</td>\n",
       "      <td>8</td>\n",
       "      <td>2</td>\n",
       "    </tr>\n",
       "    <tr>\n",
       "      <th>4</th>\n",
       "      <td>chuy</td>\n",
       "      <td>-44.370821</td>\n",
       "      <td>-40.358666</td>\n",
       "      <td>60</td>\n",
       "      <td>90</td>\n",
       "      <td>0</td>\n",
       "      <td>10</td>\n",
       "    </tr>\n",
       "  </tbody>\n",
       "</table>\n",
       "</div>"
      ],
      "text/plain": [
       "           City   Latitude   Longitute Temperature (F) Humidity (%)  \\\n",
       "0  nova olimpia -13.316980  -58.159841              73           95   \n",
       "1        hobart -44.543764  149.207082              54           62   \n",
       "2       amurrio  42.870389   -3.064101              48           76   \n",
       "3      tshikapa  -6.451057   20.773843              85           72   \n",
       "4          chuy -44.370821  -40.358666              60           90   \n",
       "\n",
       "  Cloudiness(%) Wind Speed  \n",
       "0            88          2  \n",
       "1             0          5  \n",
       "2             0          1  \n",
       "3             8          2  \n",
       "4             0         10  "
      ]
     },
     "execution_count": 6,
     "metadata": {},
     "output_type": "execute_result"
    }
   ],
   "source": [
    "url = \"http://api.openweathermap.org/data/2.5/weather?\"\n",
    "\n",
    "print(f'Beginning Data Retrieval \\n ........................')\n",
    "for index,row in weather_df.iterrows():\n",
    "    query_url = url + \"appid=\" + api_key + \"&q=\" + str(row['City']) + \"&units=imperial\"\n",
    "    try:\n",
    "        response = requests.get(query_url).json()\n",
    "        weather_df.set_value(index, \"Temperature (F)\", int(response['main']['temp']))\n",
    "        weather_df.set_value(index, \"Humidity (%)\", int(response['main']['humidity']))\n",
    "        weather_df.set_value(index, \"Cloudiness(%)\", int(response['clouds']['all']))\n",
    "        weather_df.set_value(index, \"Wind Speed\", int(response['wind']['speed']))\n",
    "\n",
    "    except:\n",
    "        print(f\"No data for this city: {row['City']}\")\n",
    "weather_df.head()\n",
    "\n",
    "   \n",
    "    \n",
    "\n",
    "\n",
    "\n",
    "\n",
    "    "
   ]
  },
  {
   "cell_type": "code",
   "execution_count": null,
   "metadata": {},
   "outputs": [],
   "source": []
  },
  {
   "cell_type": "code",
   "execution_count": 7,
   "metadata": {},
   "outputs": [
    {
     "data": {
      "text/plain": [
       "854"
      ]
     },
     "execution_count": 7,
     "metadata": {},
     "output_type": "execute_result"
    }
   ],
   "source": [
    "len(weather_df)"
   ]
  },
  {
   "cell_type": "markdown",
   "metadata": {},
   "source": [
    "### Convert Raw Data to DataFrame\n",
    "* Export the city data into a .csv.\n",
    "* Display the DataFrame"
   ]
  },
  {
   "cell_type": "code",
   "execution_count": 14,
   "metadata": {},
   "outputs": [],
   "source": [
    "weather_df = weather_df[weather_df['Wind Speed'] !=\"\"]\n",
    "weather_df.to_csv(\"../Huys_weatherdata_output.csv\")\n",
    "\n",
    "\n"
   ]
  },
  {
   "cell_type": "code",
   "execution_count": 21,
   "metadata": {},
   "outputs": [
    {
     "data": {
      "text/plain": [
       "771"
      ]
     },
     "execution_count": 21,
     "metadata": {},
     "output_type": "execute_result"
    }
   ],
   "source": [
    "len(weather_df)"
   ]
  },
  {
   "cell_type": "markdown",
   "metadata": {},
   "source": [
    "### Plotting the Data\n",
    "* Use proper labeling of the plots using plot titles (including date of analysis) and axes labels.\n",
    "* Save the plotted figures as .pngs."
   ]
  },
  {
   "cell_type": "markdown",
   "metadata": {},
   "source": [
    "#### Latitude vs. Temperature Plot"
   ]
  },
  {
   "cell_type": "code",
   "execution_count": 17,
   "metadata": {},
   "outputs": [
    {
     "data": {
      "image/png": "[encoded data removed]",
      "text/plain": [
       "<Figure size 432x288 with 1 Axes>"
      ]
     },
     "metadata": {
      "needs_background": "light"
     },
     "output_type": "display_data"
    }
   ],
   "source": [
    "plt.scatter(weather_df[\"Latitude\"], weather_df[\"Temperature (F)\"], marker=\"o\")\n",
    "\n",
    "\n",
    "plt.title(\"City Latitude vs. Temperature (F)\")\n",
    "plt.ylabel(\"Temperature (F)\")\n",
    "plt.xlabel(\"Latitutde\")\n",
    "plt.grid(True)\n",
    "\n",
    "\n",
    "plt.savefig(\"../Latitude_vs_Temp.png\")\n",
    "\n",
    "plt.show()"
   ]
  },
  {
   "cell_type": "markdown",
   "metadata": {},
   "source": [
    "#### Latitude vs. Humidity Plot"
   ]
  },
  {
   "cell_type": "code",
   "execution_count": 18,
   "metadata": {},
   "outputs": [
    {
     "data": {
      "image/png": "[encoded data removed]",
      "text/plain": [
       "<Figure size 432x288 with 1 Axes>"
      ]
     },
     "metadata": {
      "needs_background": "light"
     },
     "output_type": "display_data"
    }
   ],
   "source": [
    "plt.scatter(weather_df[\"Latitude\"], weather_df[\"Humidity (%)\"], marker=\"o\")\n",
    "\n",
    "\n",
    "plt.title(\"City Latitude vs. Humidity (%)\")\n",
    "plt.ylabel(\"Humidity (%)\")\n",
    "plt.xlabel(\"Latitutde\")\n",
    "plt.grid(True)\n",
    "\n",
    "\n",
    "plt.savefig(\"../Latitude_vs_Humidity.png\")\n",
    "plt.show()"
   ]
  },
  {
   "cell_type": "markdown",
   "metadata": {},
   "source": [
    "#### Latitude vs. Cloudiness Plot"
   ]
  },
  {
   "cell_type": "code",
   "execution_count": 19,
   "metadata": {},
   "outputs": [
    {
     "data": {
      "image/png": "[encoded data removed]",
      "text/plain": [
       "<Figure size 432x288 with 1 Axes>"
      ]
     },
     "metadata": {
      "needs_background": "light"
     },
     "output_type": "display_data"
    }
   ],
   "source": [
    "plt.scatter(weather_df[\"Latitude\"], weather_df[\"Cloudiness(%)\"], marker=\"o\")\n",
    "\n",
    "\n",
    "plt.title(\"City Latitude vs. Cloudiness(%)\")\n",
    "plt.ylabel(\"Cloudiness(%)\")\n",
    "plt.xlabel(\"Latitutde\")\n",
    "plt.grid(True)\n",
    "\n",
    "\n",
    "plt.savefig(\"../Latitude_vs_Clooudiness.png\")\n",
    "plt.show()"
   ]
  },
  {
   "cell_type": "markdown",
   "metadata": {},
   "source": [
    "#### Latitude vs. Wind Speed Plot"
   ]
  },
  {
   "cell_type": "code",
   "execution_count": 20,
   "metadata": {},
   "outputs": [
    {
     "data": {
      "image/png": "[encoded data removed]",
      "text/plain": [
       "<Figure size 432x288 with 1 Axes>"
      ]
     },
     "metadata": {
      "needs_background": "light"
     },
     "output_type": "display_data"
    }
   ],
   "source": [
    "plt.scatter(weather_df[\"Latitude\"], weather_df[\"Wind Speed\"], marker=\"o\")\n",
    "\n",
    "\n",
    "plt.title(\"City Latitude vs. Wind Speed\")\n",
    "plt.ylabel(\"Wind Speed\")\n",
    "plt.xlabel(\"Latitutde\")\n",
    "plt.grid(True)\n",
    "\n",
    "\n",
    "plt.savefig(\"../Latitude_vs_Clooudiness.png\")\n",
    "plt.show()"
   ]
  },
  {
   "cell_type": "markdown",
   "metadata": {},
   "source": [
    "# Observations"
   ]
  },
  {
   "cell_type": "code",
   "execution_count": null,
   "metadata": {},
   "outputs": [],
   "source": [
    "'''\n",
    "1) Temperature rises as it gets closers to the equator\n",
    "2) Wind speed picks up south of the equator\n",
    "3) There is little cloud coverage near the polers\n",
    "'''"
   ]
  }
 ],
 "metadata": {
  "anaconda-cloud": {},
  "kernel_info": {
   "name": "python3"
  },
  "kernelspec": {
   "display_name": "Python 3",
   "language": "python",
   "name": "python3"
  },
  "language_info": {
   "codemirror_mode": {
    "name": "ipython",
    "version": 3
   },
   "file_extension": ".py",
   "mimetype": "text/x-python",
   "name": "python",
   "nbconvert_exporter": "python",
   "pygments_lexer": "ipython3",
   "version": "3.7.1"
  },
  "nteract": {
   "version": "0.12.3"
  }
 },
 "nbformat": 4,
 "nbformat_minor": 2
}
